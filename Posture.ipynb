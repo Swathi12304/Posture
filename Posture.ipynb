{
 "cells": [
  {
   "cell_type": "code",
   "execution_count": 1,
   "id": "0a3d5d22",
   "metadata": {},
   "outputs": [],
   "source": [
    "import mediapipe as mp"
   ]
  },
  {
   "cell_type": "code",
   "execution_count": 2,
   "id": "f5023ce9",
   "metadata": {},
   "outputs": [],
   "source": [
    "import cv2"
   ]
  },
  {
   "cell_type": "code",
   "execution_count": 3,
   "id": "219b6cdf",
   "metadata": {},
   "outputs": [],
   "source": [
    "import numpy as np\n",
    "import pandas as pd\n"
   ]
  },
  {
   "cell_type": "code",
   "execution_count": 4,
   "id": "b9e7fc8c",
   "metadata": {},
   "outputs": [],
   "source": [
    "mp_drw = mp.solutions.drawing_utils\n",
    "mp_ps = mp.solutions.pose\n",
    "\n",
    "def cal_angle(a,b,c):\n",
    "    a=np.array(a)\n",
    "    b=np.array(b)\n",
    "    c=np.array(c)\n",
    "    \n",
    "    radians=np.arctan2(c[1]-b[1],c[0]-b[0]) - np.arctan2(a[1]-b[1],a[0]-b[0])\n",
    "    angle=np.abs(radians*180.0/np.pi)\n",
    "    \n",
    "    if angle>180.0:\n",
    "        angle=360-angle\n",
    "    \n",
    "    return angle"
   ]
  },
  {
   "cell_type": "code",
   "execution_count": 5,
   "id": "83b341a0",
   "metadata": {},
   "outputs": [
    {
     "data": {
      "text/plain": [
       "<module 'mediapipe.python.solutions.pose' from 'C:\\\\Users\\\\HP\\\\AppData\\\\Roaming\\\\Python\\\\Python38\\\\site-packages\\\\mediapipe\\\\python\\\\solutions\\\\pose.py'>"
      ]
     },
     "execution_count": 5,
     "metadata": {},
     "output_type": "execute_result"
    }
   ],
   "source": [
    "mp_ps"
   ]
  },
  {
   "cell_type": "code",
   "execution_count": 6,
   "id": "fa2c1359",
   "metadata": {},
   "outputs": [],
   "source": [
    "cap = cv2.VideoCapture(0)\n",
    "with mp_ps.Pose(min_detection_confidence=0.5,min_tracking_confidence=0.5) as pose:\n",
    "    while True:\n",
    "        ret, frame = cap.read()\n",
    "        img = cv2.cvtColor(frame,cv2.COLOR_BGR2RGB)\n",
    "        img.flags.writeable = False\n",
    "        res = pose.process(img)\n",
    "        img.flags.writeable = True\n",
    "        img = cv2.cvtColor(img,cv2.COLOR_RGB2BGR)\n",
    "        #extract landmarks\n",
    "        try:\n",
    "            landmarks = res.pose_landmarks.landmark\n",
    "            #get cord\n",
    "            r_hip = [landmarks[mp_ps.PoseLandmark.RIGHT_HIP].x,landmarks[mp_ps.PoseLandmark.RIGHT_HIP].y]\n",
    "            r_kne = [landmarks[mp_ps.PoseLandmark.RIGHT_KNEE].x,landmarks[mp_ps.PoseLandmark.RIGHT_KNEE].y]\n",
    "            r_toe = [landmarks[mp_ps.PoseLandmark.RIGHT_HEEL].x,landmarks[mp_ps.PoseLandmark.RIGHT_HEEL].y]\n",
    "            \n",
    "            l_hip = [landmarks[mp_ps.PoseLandmark.LEFT_HIP].x,landmarks[mp_ps.PoseLandmark.LEFT_HIP].y]\n",
    "            l_kne = [landmarks[mp_ps.PoseLandmark.LEFT_KNEE].x,landmarks[mp_ps.PoseLandmark.LEFT_KNEE].y]\n",
    "            l_toe = [landmarks[mp_ps.PoseLandmark.LEFT_HEEL].x,landmarks[mp_ps.PoseLandmark.LEFT_HEEL].y]\n",
    "            \n",
    "            \n",
    "            #Cal ang\n",
    "            angle = cal_angle(r_hip,r_knw,r_toe)\n",
    "            cv2.putText(img,str(angle),tuple(np.multiply(lb,[640,480]).astype(int)),cv2.FONT_HERSHEY_SIMPLEX,0.5,(255,255,255),2,cv2.LINE_AA\n",
    "                       \n",
    "                       )\n",
    "            angle1 = cal_angle(l_hip,l_kne,l_toe)\n",
    "            cv2.putText(img,str(angle2),tuple(np.multiply(kne,[640,480]).astype(int)),cv2.FONT_HERSHEY_SIMPLEX,0.5,(255,255,255),2,cv2.LINE_AA\n",
    "                       \n",
    "                       )\n",
    "            \n",
    "                \n",
    "        except:\n",
    "            pass\n",
    "        mp_drw.draw_landmarks(img,res.pose_landmarks,mp_ps.POSE_CONNECTIONS,\n",
    "                             mp_drw.DrawingSpec(color=(245,117,66),thickness=2,\n",
    "                                          circle_radius=2),mp_drw.DrawingSpec(color=(266,167,56),thickness=2,\n",
    "                                          circle_radius=2))\n",
    "        #print(res)\n",
    "        cv2.imshow('mediapipe',img)\n",
    "        key = cv2.waitKey(1) & 0xFF\n",
    "\n",
    "        if key == ord(\"q\"):\n",
    "            break\n",
    "cap.release()\n",
    "cv2.destroyAllWindows()\n",
    "\n"
   ]
  },
  {
   "cell_type": "code",
   "execution_count": 7,
   "id": "cb1ec04e",
   "metadata": {},
   "outputs": [
    {
     "data": {
      "text/plain": [
       "[x: 0.6420474052429199\n",
       "y: 0.5726527571678162\n",
       "z: -1.4746496677398682\n",
       "visibility: 0.999870777130127\n",
       ", x: 0.6869107484817505\n",
       "y: 0.49475181102752686\n",
       "z: -1.4349696636199951\n",
       "visibility: 0.9997245073318481\n",
       ", x: 0.7097628712654114\n",
       "y: 0.49640291929244995\n",
       "z: -1.4348258972167969\n",
       "visibility: 0.9997936487197876\n",
       ", x: 0.7317595481872559\n",
       "y: 0.4988778233528137\n",
       "z: -1.434523105621338\n",
       "visibility: 0.9996786713600159\n",
       ", x: 0.6168752908706665\n",
       "y: 0.481465607881546\n",
       "z: -1.4265779256820679\n",
       "visibility: 0.9997415542602539\n",
       ", x: 0.5871261358261108\n",
       "y: 0.4731294512748718\n",
       "z: -1.425590991973877\n",
       "visibility: 0.9997599720954895\n",
       ", x: 0.5581051707267761\n",
       "y: 0.46537071466445923\n",
       "z: -1.4257452487945557\n",
       "visibility: 0.9996509552001953\n",
       ", x: 0.7534747123718262\n",
       "y: 0.5191034078598022\n",
       "z: -0.9553502202033997\n",
       "visibility: 0.9997105598449707\n",
       ", x: 0.5035721063613892\n",
       "y: 0.46746301651000977\n",
       "z: -0.9164544939994812\n",
       "visibility: 0.999876856803894\n",
       ", x: 0.6685142517089844\n",
       "y: 0.6668636798858643\n",
       "z: -1.2743737697601318\n",
       "visibility: 0.9997921586036682\n",
       ", x: 0.5858653783798218\n",
       "y: 0.6503645181655884\n",
       "z: -1.2636816501617432\n",
       "visibility: 0.9999109506607056\n",
       ", x: 0.8498765230178833\n",
       "y: 0.8394604921340942\n",
       "z: -0.5745108723640442\n",
       "visibility: 0.9982597827911377\n",
       ", x: 0.32275423407554626\n",
       "y: 0.8093651533126831\n",
       "z: -0.3955560326576233\n",
       "visibility: 0.997897207736969\n",
       ", x: 0.9170525670051575\n",
       "y: 1.4265925884246826\n",
       "z: -0.9839659929275513\n",
       "visibility: 0.6480521559715271\n",
       ", x: 0.15301333367824554\n",
       "y: 1.1328604221343994\n",
       "z: -0.2346678525209427\n",
       "visibility: 0.17209558188915253\n",
       ", x: 0.7658585906028748\n",
       "y: 0.873520016670227\n",
       "z: -1.617542028427124\n",
       "visibility: 0.9689150452613831\n",
       ", x: 0.1729240119457245\n",
       "y: 1.6821807622909546\n",
       "z: -0.6984626054763794\n",
       "visibility: 0.15007087588310242\n",
       ", x: 0.7318696975708008\n",
       "y: 0.7391940355300903\n",
       "z: -1.7764472961425781\n",
       "visibility: 0.9577357769012451\n",
       ", x: 0.1508277952671051\n",
       "y: 1.8102725744247437\n",
       "z: -0.7678723335266113\n",
       "visibility: 0.1826869696378708\n",
       ", x: 0.7384955286979675\n",
       "y: 0.685280978679657\n",
       "z: -1.6551544666290283\n",
       "visibility: 0.9616700410842896\n",
       ", x: 0.18800251185894012\n",
       "y: 1.7739547491073608\n",
       "z: -0.8523082733154297\n",
       "visibility: 0.25425928831100464\n",
       ", x: 0.7341151237487793\n",
       "y: 0.7248044610023499\n",
       "z: -1.5936132669448853\n",
       "visibility: 0.948174774646759\n",
       ", x: 0.21108095347881317\n",
       "y: 1.7275527715682983\n",
       "z: -0.7474279403686523\n",
       "visibility: 0.2533668279647827\n",
       ", x: 0.7120898365974426\n",
       "y: 1.8022698163986206\n",
       "z: -0.06640814244747162\n",
       "visibility: 0.002223036251962185\n",
       ", x: 0.342635840177536\n",
       "y: 1.7831459045410156\n",
       "z: 0.07192238420248032\n",
       "visibility: 0.0014793670270591974\n",
       ", x: 0.6945604085922241\n",
       "y: 2.646196126937866\n",
       "z: -0.12906795740127563\n",
       "visibility: 0.0023524316493421793\n",
       ", x: 0.3850465416908264\n",
       "y: 2.6033055782318115\n",
       "z: -0.2030538022518158\n",
       "visibility: 0.001173700555227697\n",
       ", x: 0.6870247721672058\n",
       "y: 3.3947558403015137\n",
       "z: 0.5072134137153625\n",
       "visibility: 0.00034358512493781745\n",
       ", x: 0.3912036120891571\n",
       "y: 3.362530469894409\n",
       "z: 0.24668419361114502\n",
       "visibility: 2.775216125883162e-05\n",
       ", x: 0.690383791923523\n",
       "y: 3.500080108642578\n",
       "z: 0.52836674451828\n",
       "visibility: 0.00025635032216086984\n",
       ", x: 0.38588717579841614\n",
       "y: 3.475320339202881\n",
       "z: 0.2652047872543335\n",
       "visibility: 9.352193592349067e-05\n",
       ", x: 0.6296876668930054\n",
       "y: 3.6357245445251465\n",
       "z: -0.23318806290626526\n",
       "visibility: 0.000923020823393017\n",
       ", x: 0.43037185072898865\n",
       "y: 3.5812251567840576\n",
       "z: -0.5874181389808655\n",
       "visibility: 0.00041227892506867647\n",
       "]"
      ]
     },
     "execution_count": 7,
     "metadata": {},
     "output_type": "execute_result"
    }
   ],
   "source": [
    "landmarks"
   ]
  },
  {
   "cell_type": "code",
   "execution_count": null,
   "id": "f0539340",
   "metadata": {},
   "outputs": [],
   "source": []
  },
  {
   "cell_type": "code",
   "execution_count": 8,
   "id": "18f0fb49",
   "metadata": {},
   "outputs": [],
   "source": [
    "a =np.multiply(r_hip,[640,480]).astype(int)\n",
    "b = np.multiply(r_kne,[640,480]).astype(int)\n",
    "c=np.multiply(r_toe,[640,480]).astype(int)\n",
    "d=np.multiply(l_hip,[640,480]).astype(int)\n",
    "e=np.multiply(l_kne,[640,480]).astype(int)\n",
    "f= np.multiply(l_toe,[640,480]).astype(int)"
   ]
  },
  {
   "cell_type": "code",
   "execution_count": 9,
   "id": "f3f5c99c",
   "metadata": {},
   "outputs": [],
   "source": [
    "li =[a,b,c,d,e,f]"
   ]
  },
  {
   "cell_type": "code",
   "execution_count": 10,
   "id": "9be5edd7",
   "metadata": {},
   "outputs": [],
   "source": [
    "df= pd.DataFrame(data = li, columns= [\"x\", \"y\"])"
   ]
  },
  {
   "cell_type": "code",
   "execution_count": 11,
   "id": "8794daff",
   "metadata": {},
   "outputs": [
    {
     "data": {
      "text/html": [
       "<div>\n",
       "<style scoped>\n",
       "    .dataframe tbody tr th:only-of-type {\n",
       "        vertical-align: middle;\n",
       "    }\n",
       "\n",
       "    .dataframe tbody tr th {\n",
       "        vertical-align: top;\n",
       "    }\n",
       "\n",
       "    .dataframe thead th {\n",
       "        text-align: right;\n",
       "    }\n",
       "</style>\n",
       "<table border=\"1\" class=\"dataframe\">\n",
       "  <thead>\n",
       "    <tr style=\"text-align: right;\">\n",
       "      <th></th>\n",
       "      <th>x</th>\n",
       "      <th>y</th>\n",
       "    </tr>\n",
       "  </thead>\n",
       "  <tbody>\n",
       "    <tr>\n",
       "      <th>0</th>\n",
       "      <td>219</td>\n",
       "      <td>855</td>\n",
       "    </tr>\n",
       "    <tr>\n",
       "      <th>1</th>\n",
       "      <td>246</td>\n",
       "      <td>1249</td>\n",
       "    </tr>\n",
       "    <tr>\n",
       "      <th>2</th>\n",
       "      <td>246</td>\n",
       "      <td>1668</td>\n",
       "    </tr>\n",
       "    <tr>\n",
       "      <th>3</th>\n",
       "      <td>455</td>\n",
       "      <td>865</td>\n",
       "    </tr>\n",
       "    <tr>\n",
       "      <th>4</th>\n",
       "      <td>444</td>\n",
       "      <td>1270</td>\n",
       "    </tr>\n",
       "    <tr>\n",
       "      <th>5</th>\n",
       "      <td>441</td>\n",
       "      <td>1680</td>\n",
       "    </tr>\n",
       "  </tbody>\n",
       "</table>\n",
       "</div>"
      ],
      "text/plain": [
       "     x     y\n",
       "0  219   855\n",
       "1  246  1249\n",
       "2  246  1668\n",
       "3  455   865\n",
       "4  444  1270\n",
       "5  441  1680"
      ]
     },
     "execution_count": 11,
     "metadata": {},
     "output_type": "execute_result"
    }
   ],
   "source": [
    "df"
   ]
  },
  {
   "cell_type": "code",
   "execution_count": 12,
   "id": "d7fa048e",
   "metadata": {},
   "outputs": [],
   "source": [
    "df.to_excel('posture.xlsx')"
   ]
  },
  {
   "cell_type": "code",
   "execution_count": 13,
   "id": "1d4a1cb2",
   "metadata": {},
   "outputs": [
    {
     "data": {
      "text/plain": [
       "array([219, 855])"
      ]
     },
     "execution_count": 13,
     "metadata": {},
     "output_type": "execute_result"
    }
   ],
   "source": [
    "landmarks[mp_ps.PoseLandmark.RIGHT_HIP]\n",
    "np.multiply(r_hip,[640,480]).astype(int)"
   ]
  },
  {
   "cell_type": "code",
   "execution_count": null,
   "id": "fda14c8b",
   "metadata": {},
   "outputs": [],
   "source": []
  },
  {
   "cell_type": "code",
   "execution_count": null,
   "id": "9e50f913",
   "metadata": {},
   "outputs": [],
   "source": []
  },
  {
   "cell_type": "code",
   "execution_count": null,
   "id": "96eed120",
   "metadata": {},
   "outputs": [],
   "source": []
  }
 ],
 "metadata": {
  "kernelspec": {
   "display_name": "Python 3",
   "language": "python",
   "name": "python3"
  },
  "language_info": {
   "codemirror_mode": {
    "name": "ipython",
    "version": 3
   },
   "file_extension": ".py",
   "mimetype": "text/x-python",
   "name": "python",
   "nbconvert_exporter": "python",
   "pygments_lexer": "ipython3",
   "version": "3.8.8"
  }
 },
 "nbformat": 4,
 "nbformat_minor": 5
}
